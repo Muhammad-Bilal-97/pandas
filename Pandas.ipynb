{
 "cells": [
  {
   "cell_type": "code",
   "execution_count": null,
   "id": "26dd5f95",
   "metadata": {},
   "outputs": [],
   "source": [
    "import numpy as np"
   ]
  },
  {
   "cell_type": "code",
   "execution_count": null,
   "id": "d2fe2db8",
   "metadata": {},
   "outputs": [],
   "source": [
    "import pandas as pd"
   ]
  },
  {
   "cell_type": "code",
   "execution_count": null,
   "id": "ed3cfb46",
   "metadata": {},
   "outputs": [],
   "source": [
    "# Series"
   ]
  },
  {
   "cell_type": "code",
   "execution_count": null,
   "id": "c2307e26",
   "metadata": {},
   "outputs": [],
   "source": [
    "labels = ['a', 'b', 'c']"
   ]
  },
  {
   "cell_type": "code",
   "execution_count": null,
   "id": "22e95e15",
   "metadata": {},
   "outputs": [],
   "source": [
    "numpy_data = np.array([10, 20, 30])"
   ]
  },
  {
   "cell_type": "code",
   "execution_count": null,
   "id": "ce286257",
   "metadata": {},
   "outputs": [],
   "source": [
    "dic = {'a':10, 'b':20, 'c':30}"
   ]
  },
  {
   "cell_type": "code",
   "execution_count": null,
   "id": "0912799a",
   "metadata": {},
   "outputs": [],
   "source": [
    "pd.Series(labels)"
   ]
  },
  {
   "cell_type": "code",
   "execution_count": null,
   "id": "d7020fee",
   "metadata": {},
   "outputs": [],
   "source": [
    "pd.Series(numpy_data)"
   ]
  },
  {
   "cell_type": "code",
   "execution_count": null,
   "id": "4da40318",
   "metadata": {},
   "outputs": [],
   "source": [
    "pd.Series(dic)"
   ]
  },
  {
   "cell_type": "code",
   "execution_count": null,
   "id": "ff094ddd",
   "metadata": {},
   "outputs": [],
   "source": [
    "pd.Series(numpy_data, labels)"
   ]
  },
  {
   "cell_type": "code",
   "execution_count": null,
   "id": "9ddfdad2",
   "metadata": {},
   "outputs": [],
   "source": [
    "ser1 = pd.Series([1,2,3,4], ['USA', 'Germany', 'USSR', 'Japan'])"
   ]
  },
  {
   "cell_type": "code",
   "execution_count": null,
   "id": "2e30cbf9",
   "metadata": {},
   "outputs": [],
   "source": [
    "ser2 = pd.Series([1,2,5,4], ['USA', 'Germany', 'Pakistan', 'Italy'])"
   ]
  },
  {
   "cell_type": "code",
   "execution_count": null,
   "id": "db77004d",
   "metadata": {},
   "outputs": [],
   "source": [
    "ser1"
   ]
  },
  {
   "cell_type": "code",
   "execution_count": null,
   "id": "33f9654a",
   "metadata": {},
   "outputs": [],
   "source": [
    "ser2"
   ]
  },
  {
   "cell_type": "code",
   "execution_count": null,
   "id": "c54cb4ef",
   "metadata": {},
   "outputs": [],
   "source": [
    "ser1 + ser2"
   ]
  },
  {
   "cell_type": "code",
   "execution_count": null,
   "id": "4709b24f",
   "metadata": {},
   "outputs": [],
   "source": []
  },
  {
   "cell_type": "code",
   "execution_count": null,
   "id": "4b2a4bad",
   "metadata": {},
   "outputs": [],
   "source": [
    "# Data Frames"
   ]
  },
  {
   "cell_type": "code",
   "execution_count": null,
   "id": "8a97c090",
   "metadata": {},
   "outputs": [],
   "source": [
    "# data frames is combination of series"
   ]
  },
  {
   "cell_type": "code",
   "execution_count": null,
   "id": "128e2f7f",
   "metadata": {},
   "outputs": [],
   "source": [
    "from numpy.random import randn"
   ]
  },
  {
   "cell_type": "code",
   "execution_count": null,
   "id": "a3c8f16f",
   "metadata": {},
   "outputs": [],
   "source": [
    "# seed generates same random numbers on any system we call it.\n",
    "\n",
    "np.random.seed(101)"
   ]
  },
  {
   "cell_type": "code",
   "execution_count": null,
   "id": "7e1ca1df",
   "metadata": {},
   "outputs": [],
   "source": [
    "df = pd.DataFrame(randn(5,4), ['A', 'B', 'C', 'D', 'E'], ['w', 'x', 'y', 'z'])"
   ]
  },
  {
   "cell_type": "code",
   "execution_count": null,
   "id": "a43b8a41",
   "metadata": {},
   "outputs": [],
   "source": [
    "df"
   ]
  },
  {
   "cell_type": "code",
   "execution_count": null,
   "id": "94cb807e",
   "metadata": {},
   "outputs": [],
   "source": [
    "df['w']"
   ]
  },
  {
   "cell_type": "code",
   "execution_count": null,
   "id": "b781731f",
   "metadata": {},
   "outputs": [],
   "source": [
    "type(df['w'])"
   ]
  },
  {
   "cell_type": "code",
   "execution_count": null,
   "id": "96e81c0b",
   "metadata": {},
   "outputs": [],
   "source": [
    "type(df)"
   ]
  },
  {
   "cell_type": "code",
   "execution_count": null,
   "id": "9e059a78",
   "metadata": {},
   "outputs": [],
   "source": [
    "df[['w', 'y']]"
   ]
  },
  {
   "cell_type": "code",
   "execution_count": null,
   "id": "057d3815",
   "metadata": {},
   "outputs": [],
   "source": [
    "type(df[['w', 'y']])"
   ]
  },
  {
   "cell_type": "code",
   "execution_count": null,
   "id": "4c3bd55b",
   "metadata": {},
   "outputs": [],
   "source": [
    "df['new'] = df['w'] + df['x']"
   ]
  },
  {
   "cell_type": "code",
   "execution_count": null,
   "id": "1405fcc4",
   "metadata": {},
   "outputs": [],
   "source": [
    "df"
   ]
  },
  {
   "cell_type": "code",
   "execution_count": null,
   "id": "8f483c3d",
   "metadata": {},
   "outputs": [],
   "source": [
    "df.drop('new', axis =1)\n",
    "# axis = 1 is for column drop\n",
    "# axis = 0 is for row drop"
   ]
  },
  {
   "cell_type": "code",
   "execution_count": null,
   "id": "3705d3d2",
   "metadata": {},
   "outputs": [],
   "source": [
    "df.drop('B')"
   ]
  },
  {
   "cell_type": "code",
   "execution_count": null,
   "id": "5f921a59",
   "metadata": {},
   "outputs": [],
   "source": [
    "df"
   ]
  },
  {
   "cell_type": "code",
   "execution_count": null,
   "id": "6108fd8b",
   "metadata": {},
   "outputs": [],
   "source": [
    "df.drop('new', axis=1, inplace = True)\n",
    "# inplace is used so that it drops the row/column permanently\n",
    "# and if inplace is false it will remove for the temporary time and if we again call the data frame it will show us the real-one"
   ]
  },
  {
   "cell_type": "code",
   "execution_count": null,
   "id": "136833f6",
   "metadata": {},
   "outputs": [],
   "source": [
    "df"
   ]
  },
  {
   "cell_type": "code",
   "execution_count": null,
   "id": "00116f3a",
   "metadata": {},
   "outputs": [],
   "source": [
    "df.loc['A']"
   ]
  },
  {
   "cell_type": "code",
   "execution_count": null,
   "id": "0ba513af",
   "metadata": {},
   "outputs": [],
   "source": [
    "df.iloc[2]"
   ]
  },
  {
   "cell_type": "code",
   "execution_count": null,
   "id": "44528a18",
   "metadata": {},
   "outputs": [],
   "source": [
    "df.loc['C', 'y']"
   ]
  },
  {
   "cell_type": "code",
   "execution_count": null,
   "id": "e7c83c1c",
   "metadata": {},
   "outputs": [],
   "source": [
    "df.loc[['A','B'], ['w','y']]"
   ]
  },
  {
   "cell_type": "code",
   "execution_count": null,
   "id": "12f72f3c",
   "metadata": {},
   "outputs": [],
   "source": [
    "df"
   ]
  },
  {
   "cell_type": "code",
   "execution_count": null,
   "id": "e1516e96",
   "metadata": {},
   "outputs": [],
   "source": [
    "df > 0"
   ]
  },
  {
   "cell_type": "code",
   "execution_count": null,
   "id": "06645577",
   "metadata": {},
   "outputs": [],
   "source": [
    "df[df > 0]"
   ]
  },
  {
   "cell_type": "code",
   "execution_count": null,
   "id": "6e457780",
   "metadata": {},
   "outputs": [],
   "source": [
    "df['w'] > 0"
   ]
  },
  {
   "cell_type": "code",
   "execution_count": null,
   "id": "8f41b9d4",
   "metadata": {},
   "outputs": [],
   "source": [
    "df [df['w'] > 0]"
   ]
  },
  {
   "cell_type": "code",
   "execution_count": null,
   "id": "27e0e8fa",
   "metadata": {},
   "outputs": [],
   "source": [
    "df[df['z'] < 0]"
   ]
  },
  {
   "cell_type": "code",
   "execution_count": null,
   "id": "a94ba9fb",
   "metadata": {},
   "outputs": [],
   "source": [
    "df"
   ]
  },
  {
   "cell_type": "code",
   "execution_count": null,
   "id": "b23723af",
   "metadata": {},
   "outputs": [],
   "source": [
    "booldf = df['w'] > 0"
   ]
  },
  {
   "cell_type": "code",
   "execution_count": null,
   "id": "07380abf",
   "metadata": {},
   "outputs": [],
   "source": [
    "booldf"
   ]
  },
  {
   "cell_type": "code",
   "execution_count": null,
   "id": "76427f31",
   "metadata": {},
   "outputs": [],
   "source": [
    "result = df[booldf]"
   ]
  },
  {
   "cell_type": "code",
   "execution_count": null,
   "id": "c59ea6b2",
   "metadata": {},
   "outputs": [],
   "source": [
    "result"
   ]
  },
  {
   "cell_type": "code",
   "execution_count": null,
   "id": "869cb896",
   "metadata": {},
   "outputs": [],
   "source": [
    "my_cols = ['y', 'x']"
   ]
  },
  {
   "cell_type": "code",
   "execution_count": null,
   "id": "d406938b",
   "metadata": {},
   "outputs": [],
   "source": [
    "result[my_cols]"
   ]
  },
  {
   "cell_type": "code",
   "execution_count": null,
   "id": "07ab1562",
   "metadata": {},
   "outputs": [],
   "source": [
    "df[ df['w'] > 0][['y', 'x']]"
   ]
  },
  {
   "cell_type": "markdown",
   "id": "2a8b1ebd",
   "metadata": {},
   "source": [
    "# Missing Values"
   ]
  },
  {
   "cell_type": "code",
   "execution_count": null,
   "id": "7f486752",
   "metadata": {},
   "outputs": [],
   "source": [
    "d = {'A': [1,2,np.nan], 'B': [5,np.nan,np.nan], 'C':[1,2,3]}"
   ]
  },
  {
   "cell_type": "code",
   "execution_count": null,
   "id": "978859f3",
   "metadata": {},
   "outputs": [],
   "source": [
    "d"
   ]
  },
  {
   "cell_type": "code",
   "execution_count": null,
   "id": "7aeb077e",
   "metadata": {},
   "outputs": [],
   "source": [
    "df = pd.DataFrame(d)"
   ]
  },
  {
   "cell_type": "code",
   "execution_count": null,
   "id": "0a8bc31b",
   "metadata": {},
   "outputs": [],
   "source": [
    "df"
   ]
  },
  {
   "cell_type": "code",
   "execution_count": null,
   "id": "042a4b10",
   "metadata": {},
   "outputs": [],
   "source": [
    "df.dropna()"
   ]
  },
  {
   "cell_type": "code",
   "execution_count": null,
   "id": "c923dbb5",
   "metadata": {},
   "outputs": [],
   "source": [
    "df"
   ]
  },
  {
   "cell_type": "code",
   "execution_count": null,
   "id": "5c7aa77d",
   "metadata": {},
   "outputs": [],
   "source": [
    "df.dropna(axis=1)"
   ]
  },
  {
   "cell_type": "code",
   "execution_count": null,
   "id": "05faffc9",
   "metadata": {},
   "outputs": [],
   "source": [
    "df.dropna(thresh=2)\n",
    "# 2 or more than 2 NaN rows should be retained(continue to having something) and delete the rest"
   ]
  },
  {
   "cell_type": "code",
   "execution_count": null,
   "id": "e48b372c",
   "metadata": {},
   "outputs": [],
   "source": [
    "df"
   ]
  },
  {
   "cell_type": "code",
   "execution_count": null,
   "id": "66adaab2",
   "metadata": {},
   "outputs": [],
   "source": [
    "df.fillna(value = 'Fill')"
   ]
  },
  {
   "cell_type": "code",
   "execution_count": null,
   "id": "df099f5a",
   "metadata": {},
   "outputs": [],
   "source": [
    "df"
   ]
  },
  {
   "cell_type": "code",
   "execution_count": null,
   "id": "7aaa54d4",
   "metadata": {},
   "outputs": [],
   "source": [
    "df['A'].fillna(value = df['A'].mean())"
   ]
  },
  {
   "cell_type": "markdown",
   "id": "443cb286",
   "metadata": {},
   "source": [
    "# Concatenation & Merging"
   ]
  },
  {
   "cell_type": "code",
   "execution_count": null,
   "id": "352cbf27",
   "metadata": {},
   "outputs": [],
   "source": [
    "df1 = pd.DataFrame({ 'A': ['A0', 'A1', 'A2', 'A3'],\n",
    "                   'B': ['B0', 'B1', 'B2', 'B3'],\n",
    "                   'C': ['C0', 'C1', 'C2', 'C3'],\n",
    "                    'D': ['D0', 'D1', 'D2', 'D3']},\n",
    "                    index=[0,1,2,3]\n",
    "                   )"
   ]
  },
  {
   "cell_type": "code",
   "execution_count": null,
   "id": "7c0d7ae0",
   "metadata": {},
   "outputs": [],
   "source": [
    "df2 = pd.DataFrame({ 'A': ['A4', 'A5', 'A6', 'A7'],\n",
    "                   'B': ['B4', 'B5', 'B6', 'B7'],\n",
    "                   'C': ['C4', 'C5', 'C6', 'C7'],\n",
    "                    'D': ['D4', 'D5', 'D6', 'D7']},\n",
    "                    index=[4,5,6,7]\n",
    "                   )"
   ]
  },
  {
   "cell_type": "code",
   "execution_count": null,
   "id": "d8bf8447",
   "metadata": {},
   "outputs": [],
   "source": [
    "df3 = pd.DataFrame({ 'A': ['A8', 'A9', 'A10', 'A11'],\n",
    "                   'B': ['B8', 'B9', 'B10', 'B11'],\n",
    "                   'C': ['C8', 'C9', 'C10', 'C11'],\n",
    "                    'D': ['D8', 'D9', 'D10', 'D11']},\n",
    "                    index=[8,9,10,11]\n",
    "                   )"
   ]
  },
  {
   "cell_type": "code",
   "execution_count": null,
   "id": "fab34db3",
   "metadata": {},
   "outputs": [],
   "source": [
    "left = pd.DataFrame({ 'key': ['K0', 'K1', 'K2', 'K3'],\n",
    "                    'A': ['A0', 'A1', 'A2', 'A3'],\n",
    "                   'B': ['B0', 'B1', 'B2', 'B3']}\n",
    "                   )\n",
    "                     \n",
    "right = pd.DataFrame({ 'key': ['K0', 'K1', 'K2', 'K3'],\n",
    "                    'C': ['C0', 'C1', 'C2', 'C3'],\n",
    "                    'D': ['D0', 'D1', 'D2', 'D3']}\n",
    "                    )"
   ]
  },
  {
   "cell_type": "code",
   "execution_count": null,
   "id": "3c512a8b",
   "metadata": {},
   "outputs": [],
   "source": [
    "df1"
   ]
  },
  {
   "cell_type": "code",
   "execution_count": null,
   "id": "b24ab038",
   "metadata": {},
   "outputs": [],
   "source": [
    "df2"
   ]
  },
  {
   "cell_type": "code",
   "execution_count": null,
   "id": "5fcbb23c",
   "metadata": {},
   "outputs": [],
   "source": [
    "df3"
   ]
  },
  {
   "cell_type": "code",
   "execution_count": null,
   "id": "da1a247e",
   "metadata": {},
   "outputs": [],
   "source": [
    "# concatenation along rows\n",
    "pd.concat([df1,df2,df3])"
   ]
  },
  {
   "cell_type": "code",
   "execution_count": null,
   "id": "dcb7d202",
   "metadata": {},
   "outputs": [],
   "source": [
    "# concatenation along columns\n",
    "pd.concat([df1,df2,df3], axis=1)"
   ]
  },
  {
   "cell_type": "code",
   "execution_count": null,
   "id": "cf6738b6",
   "metadata": {},
   "outputs": [],
   "source": [
    "# merging"
   ]
  },
  {
   "cell_type": "code",
   "execution_count": null,
   "id": "031c2d77",
   "metadata": {},
   "outputs": [],
   "source": [
    "left"
   ]
  },
  {
   "cell_type": "code",
   "execution_count": null,
   "id": "f0b1a4c2",
   "metadata": {},
   "outputs": [],
   "source": [
    "right"
   ]
  },
  {
   "cell_type": "code",
   "execution_count": null,
   "id": "9d6a1805",
   "metadata": {},
   "outputs": [],
   "source": [
    "pd.merge(left, right, how='inner', on ='key')"
   ]
  }
 ],
 "metadata": {
  "kernelspec": {
   "display_name": "Python 3 (ipykernel)",
   "language": "python",
   "name": "python3"
  },
  "language_info": {
   "codemirror_mode": {
    "name": "ipython",
    "version": 3
   },
   "file_extension": ".py",
   "mimetype": "text/x-python",
   "name": "python",
   "nbconvert_exporter": "python",
   "pygments_lexer": "ipython3",
   "version": "3.9.7"
  }
 },
 "nbformat": 4,
 "nbformat_minor": 5
}
